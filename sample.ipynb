{
 "cells": [
  {
   "attachments": {},
   "cell_type": "markdown",
   "metadata": {},
   "source": [
    "# 実践問題"
   ]
  },
  {
   "cell_type": "code",
   "execution_count": 22,
   "metadata": {},
   "outputs": [],
   "source": [
    "import numpy as np\n",
    "import pandas as pd"
   ]
  },
  {
   "cell_type": "code",
   "execution_count": 24,
   "metadata": {},
   "outputs": [],
   "source": [
    "factor_dict = pd.read_csv('要因.csv', index_col=0).to_dict()['CAUSE']"
   ]
  },
  {
   "cell_type": "code",
   "execution_count": 158,
   "metadata": {},
   "outputs": [
    {
     "data": {
      "text/plain": [
       "'Unknown'"
      ]
     },
     "execution_count": 158,
     "metadata": {},
     "output_type": "execute_result"
    }
   ],
   "source": [
    "factor_dict[1]"
   ]
  },
  {
   "cell_type": "code",
   "execution_count": 25,
   "metadata": {},
   "outputs": [
    {
     "data": {
      "text/html": [
       "<div>\n",
       "<style scoped>\n",
       "    .dataframe tbody tr th:only-of-type {\n",
       "        vertical-align: middle;\n",
       "    }\n",
       "\n",
       "    .dataframe tbody tr th {\n",
       "        vertical-align: top;\n",
       "    }\n",
       "\n",
       "    .dataframe thead th {\n",
       "        text-align: right;\n",
       "    }\n",
       "</style>\n",
       "<table border=\"1\" class=\"dataframe\">\n",
       "  <thead>\n",
       "    <tr style=\"text-align: right;\">\n",
       "      <th></th>\n",
       "      <th>start</th>\n",
       "      <th>end</th>\n",
       "      <th>nr</th>\n",
       "      <th>serial</th>\n",
       "      <th>error_code</th>\n",
       "      <th>factor</th>\n",
       "      <th>print_count</th>\n",
       "    </tr>\n",
       "  </thead>\n",
       "  <tbody>\n",
       "    <tr>\n",
       "      <th>0</th>\n",
       "      <td>2020/1/1</td>\n",
       "      <td>2020/1/2</td>\n",
       "      <td>500-1</td>\n",
       "      <td>aaa</td>\n",
       "      <td>1</td>\n",
       "      <td>PQ</td>\n",
       "      <td>1</td>\n",
       "    </tr>\n",
       "    <tr>\n",
       "      <th>1</th>\n",
       "      <td>2020/1/2</td>\n",
       "      <td>2020/1/7</td>\n",
       "      <td>500-2</td>\n",
       "      <td>aaa</td>\n",
       "      <td>2</td>\n",
       "      <td>PQ</td>\n",
       "      <td>2</td>\n",
       "    </tr>\n",
       "    <tr>\n",
       "      <th>2</th>\n",
       "      <td>2020/1/3</td>\n",
       "      <td>2020/2/7</td>\n",
       "      <td>500-3</td>\n",
       "      <td>aaa</td>\n",
       "      <td>4</td>\n",
       "      <td>JAM</td>\n",
       "      <td>3</td>\n",
       "    </tr>\n",
       "    <tr>\n",
       "      <th>3</th>\n",
       "      <td>2020/1/4</td>\n",
       "      <td>2020/1/10</td>\n",
       "      <td>600-1</td>\n",
       "      <td>aaa</td>\n",
       "      <td>8</td>\n",
       "      <td>PQ</td>\n",
       "      <td>4</td>\n",
       "    </tr>\n",
       "    <tr>\n",
       "      <th>4</th>\n",
       "      <td>2020/1/5</td>\n",
       "      <td>2020/2/20</td>\n",
       "      <td>600-1</td>\n",
       "      <td>aaa</td>\n",
       "      <td>3</td>\n",
       "      <td>Noise</td>\n",
       "      <td>5</td>\n",
       "    </tr>\n",
       "    <tr>\n",
       "      <th>5</th>\n",
       "      <td>2020/1/6</td>\n",
       "      <td>2020/3/20</td>\n",
       "      <td>600-1</td>\n",
       "      <td>aaa</td>\n",
       "      <td>2</td>\n",
       "      <td>Noise</td>\n",
       "      <td>6</td>\n",
       "    </tr>\n",
       "    <tr>\n",
       "      <th>6</th>\n",
       "      <td>2020/1/7</td>\n",
       "      <td>2020/1/7</td>\n",
       "      <td>701-1</td>\n",
       "      <td>bbb</td>\n",
       "      <td>4</td>\n",
       "      <td>JAM</td>\n",
       "      <td>7</td>\n",
       "    </tr>\n",
       "    <tr>\n",
       "      <th>7</th>\n",
       "      <td>2020/1/8</td>\n",
       "      <td>2020/1/2</td>\n",
       "      <td>500-1</td>\n",
       "      <td>bbb</td>\n",
       "      <td>8</td>\n",
       "      <td>PQ</td>\n",
       "      <td>8</td>\n",
       "    </tr>\n",
       "    <tr>\n",
       "      <th>8</th>\n",
       "      <td>2020/1/9</td>\n",
       "      <td>2020/1/7</td>\n",
       "      <td>500-2</td>\n",
       "      <td>bbb</td>\n",
       "      <td>1</td>\n",
       "      <td>JAM</td>\n",
       "      <td>9</td>\n",
       "    </tr>\n",
       "    <tr>\n",
       "      <th>9</th>\n",
       "      <td>2020/1/10</td>\n",
       "      <td>2020/2/7</td>\n",
       "      <td>500-3</td>\n",
       "      <td>bbb</td>\n",
       "      <td>2</td>\n",
       "      <td>JAM</td>\n",
       "      <td>10</td>\n",
       "    </tr>\n",
       "    <tr>\n",
       "      <th>10</th>\n",
       "      <td>2020/1/11</td>\n",
       "      <td>2020/1/10</td>\n",
       "      <td>600-1</td>\n",
       "      <td>bbb</td>\n",
       "      <td>7392</td>\n",
       "      <td>PQ</td>\n",
       "      <td>11</td>\n",
       "    </tr>\n",
       "    <tr>\n",
       "      <th>11</th>\n",
       "      <td>2020/1/12</td>\n",
       "      <td>2020/2/20</td>\n",
       "      <td>600-1</td>\n",
       "      <td>bbb</td>\n",
       "      <td>8</td>\n",
       "      <td>Noise</td>\n",
       "      <td>12</td>\n",
       "    </tr>\n",
       "    <tr>\n",
       "      <th>12</th>\n",
       "      <td>2020/1/13</td>\n",
       "      <td>2020/3/20</td>\n",
       "      <td>600-1</td>\n",
       "      <td>bbb</td>\n",
       "      <td>1</td>\n",
       "      <td>Noise</td>\n",
       "      <td>13</td>\n",
       "    </tr>\n",
       "    <tr>\n",
       "      <th>13</th>\n",
       "      <td>2020/1/14</td>\n",
       "      <td>2020/1/7</td>\n",
       "      <td>701-1</td>\n",
       "      <td>bbb</td>\n",
       "      <td>2</td>\n",
       "      <td>JAM</td>\n",
       "      <td>14</td>\n",
       "    </tr>\n",
       "    <tr>\n",
       "      <th>14</th>\n",
       "      <td>2020/1/15</td>\n",
       "      <td>2020/1/7</td>\n",
       "      <td>801-1</td>\n",
       "      <td>bbb</td>\n",
       "      <td>4</td>\n",
       "      <td>JAM</td>\n",
       "      <td>15</td>\n",
       "    </tr>\n",
       "    <tr>\n",
       "      <th>15</th>\n",
       "      <td>2020/1/16</td>\n",
       "      <td>2020/1/7</td>\n",
       "      <td>801-1</td>\n",
       "      <td>ccc</td>\n",
       "      <td>8</td>\n",
       "      <td>JAM</td>\n",
       "      <td>16</td>\n",
       "    </tr>\n",
       "    <tr>\n",
       "      <th>16</th>\n",
       "      <td>2020/1/17</td>\n",
       "      <td>2020/1/7</td>\n",
       "      <td>801-1</td>\n",
       "      <td>ccc</td>\n",
       "      <td>1</td>\n",
       "      <td>JAM</td>\n",
       "      <td>17</td>\n",
       "    </tr>\n",
       "  </tbody>\n",
       "</table>\n",
       "</div>"
      ],
      "text/plain": [
       "        start        end     nr serial  error_code factor  print_count\n",
       "0    2020/1/1   2020/1/2  500-1    aaa           1     PQ            1\n",
       "1    2020/1/2   2020/1/7  500-2    aaa           2     PQ            2\n",
       "2    2020/1/3   2020/2/7  500-3    aaa           4    JAM            3\n",
       "3    2020/1/4  2020/1/10  600-1    aaa           8     PQ            4\n",
       "4    2020/1/5  2020/2/20  600-1    aaa           3  Noise            5\n",
       "5    2020/1/6  2020/3/20  600-1    aaa           2  Noise            6\n",
       "6    2020/1/7   2020/1/7  701-1    bbb           4    JAM            7\n",
       "7    2020/1/8   2020/1/2  500-1    bbb           8     PQ            8\n",
       "8    2020/1/9   2020/1/7  500-2    bbb           1    JAM            9\n",
       "9   2020/1/10   2020/2/7  500-3    bbb           2    JAM           10\n",
       "10  2020/1/11  2020/1/10  600-1    bbb        7392     PQ           11\n",
       "11  2020/1/12  2020/2/20  600-1    bbb           8  Noise           12\n",
       "12  2020/1/13  2020/3/20  600-1    bbb           1  Noise           13\n",
       "13  2020/1/14   2020/1/7  701-1    bbb           2    JAM           14\n",
       "14  2020/1/15   2020/1/7  801-1    bbb           4    JAM           15\n",
       "15  2020/1/16   2020/1/7  801-1    ccc           8    JAM           16\n",
       "16  2020/1/17   2020/1/7  801-1    ccc           1    JAM           17"
      ]
     },
     "execution_count": 25,
     "metadata": {},
     "output_type": "execute_result"
    }
   ],
   "source": [
    "df = pd.read_csv('test1.csv')\n",
    "df"
   ]
  },
  {
   "cell_type": "code",
   "execution_count": null,
   "metadata": {},
   "outputs": [],
   "source": [
    "df.loc[]"
   ]
  },
  {
   "cell_type": "code",
   "execution_count": 6,
   "metadata": {},
   "outputs": [
    {
     "data": {
      "text/plain": [
       "array(['aaa', 'bbb', 'ccc'], dtype=object)"
      ]
     },
     "execution_count": 6,
     "metadata": {},
     "output_type": "execute_result"
    }
   ],
   "source": [
    "deviceid_list = df.serial.unique()\n",
    "deviceid_list"
   ]
  },
  {
   "cell_type": "code",
   "execution_count": 13,
   "metadata": {},
   "outputs": [
    {
     "name": "stdout",
     "output_type": "stream",
     "text": [
      "0         start        end     nr serial  error_code factor  print_count\n",
      "0    2020/1/1   2020/1/2  500-1    aaa           1     PQ            1\n",
      "1    2020/1/2   2020/1/7  500-2    aaa           2     PQ            2\n",
      "2    2020/1/3   2020/2/7  500-3    aaa           4    JAM            3\n",
      "3    2020/1/4  2020/1/10  600-1    aaa           8     PQ            4\n",
      "4    2020/1/5  2020/2/20  600-1    aaa           3  Noise            5\n",
      "5    2020/1/6  2020/3/20  600-1    aaa           2  Noise            6\n",
      "6    2020/1/7   2020/1/7  701-1    bbb           4    JAM            7\n",
      "7    2020/1/8   2020/1/2  500-1    bbb           8     PQ            8\n",
      "8    2020/1/9   2020/1/7  500-2    bbb           1    JAM            9\n",
      "9   2020/1/10   2020/2/7  500-3    bbb           2    JAM           10\n",
      "10  2020/1/11  2020/1/10  600-1    bbb        7392     PQ           11\n",
      "11  2020/1/12  2020/2/20  600-1    bbb           8  Noise           12\n",
      "12  2020/1/13  2020/3/20  600-1    bbb           1  Noise           13\n",
      "13  2020/1/14   2020/1/7  701-1    bbb           2    JAM           14\n",
      "14  2020/1/15   2020/1/7  801-1    bbb           4    JAM           15\n",
      "2         start       end     nr serial  error_code factor  print_count\n",
      "15  2020/1/16  2020/1/7  801-1    ccc           8    JAM           16\n",
      "16  2020/1/17  2020/1/7  801-1    ccc           1    JAM           17\n"
     ]
    }
   ],
   "source": [
    "n = round(len(deviceid_list)/2)\n",
    "\n",
    "for i in range(0, len(deviceid_list), n):\n",
    "    device = deviceid_list[i: i+n]\n",
    "    _df = df[df.serial.isin(device)]\n",
    "    print(i,_df)"
   ]
  },
  {
   "cell_type": "code",
   "execution_count": 21,
   "metadata": {},
   "outputs": [
    {
     "name": "stdout",
     "output_type": "stream",
     "text": [
      "0\n",
      "2\n"
     ]
    }
   ],
   "source": [
    "for i in range(0, 3, 2):\n",
    "    print(i)"
   ]
  },
  {
   "cell_type": "code",
   "execution_count": null,
   "metadata": {},
   "outputs": [
    {
     "name": "stdout",
     "output_type": "stream",
     "text": [
      "カテゴリと記事タイトルがnews_titles_and_categories.csvに保存されました。\n"
     ]
    }
   ],
   "source": [
    "# Yahoo!ニュースのトピック一覧ページからタイトルとカテゴリを取得\n",
    "\n",
    "import requests\n",
    "from bs4 import BeautifulSoup\n",
    "import pandas as pd\n",
    "\n",
    "def get_titles_and_categories(url):\n",
    "    # URLにアクセスしてページのHTMLを取得\n",
    "    response = requests.get(url)\n",
    "    soup = BeautifulSoup(response.content, 'html.parser')\n",
    "    \n",
    "    # 各カテゴリーとその記事タイトルを抽出\n",
    "    sections = soup.find_all('div', class_='sc-hwj2au-1')\n",
    "    data = []\n",
    "\n",
    "    for section in sections:\n",
    "        category = section.find('a').get_text(strip=True)\n",
    "        articles = section.find_all('li', class_='sc-1nhdoj2-0')\n",
    "        for article in articles:\n",
    "            title = article.find('a').get_text(strip=True)\n",
    "            data.append({\"Category\": category, \"Title\": title})\n",
    "    \n",
    "    return data\n",
    "\n",
    "# Yahoo!ニュースのトピック一覧ページからタイトルとカテゴリを取得\n",
    "url = \"https://news.yahoo.co.jp/topics\"\n",
    "data = get_titles_and_categories(url)\n",
    "\n",
    "# データをデータフレームに変換\n",
    "df = pd.DataFrame(data)\n",
    "\n",
    "# データフレームをCSVファイルに保存\n",
    "df.to_csv('news_titles_and_categories.csv', index=False, encoding='utf-8-sig')\n",
    "\n",
    "print(\"カテゴリと記事タイトルがnews_titles_and_categories.csvに保存されました。\")\n"
   ]
  },
  {
   "cell_type": "code",
   "execution_count": null,
   "metadata": {},
   "outputs": [
    {
     "name": "stdout",
     "output_type": "stream",
     "text": [
      "CSVファイルに出力しました\n"
     ]
    }
   ],
   "source": [
    "# ニュースサイトから、一ヶ月以内の記事を取得する\n",
    "\n",
    "import requests\n",
    "from bs4 import BeautifulSoup\n",
    "import pandas as pd\n",
    "from datetime import datetime, timedelta\n",
    "\n",
    "# 基本URLを設定します\n",
    "base_url = \"https://www.kyoceradocumentsolutions.com\"\n",
    "\n",
    "# ニュースのURLを設定します\n",
    "news_url = \"https://www.kyoceradocumentsolutions.com/ja/news/rls_2024/\"\n",
    "\n",
    "# ページを取得します\n",
    "response = requests.get(news_url)\n",
    "soup = BeautifulSoup(response.text, \"html.parser\")\n",
    "\n",
    "# 現在の日付を取得します\n",
    "now = datetime.now()\n",
    "one_month_ago = now - timedelta(days=30)\n",
    "\n",
    "# データを格納するリストを準備します\n",
    "data = []\n",
    "\n",
    "# ニュースエントリーをすべて抽出します\n",
    "entries = soup.find_all(\"li\")\n",
    "for entry in entries:\n",
    "    date_div = entry.find(\"div\", class_=\"news-entries__date\")\n",
    "    category_div = entry.find(\"div\", class_=\"news-entries__category\")\n",
    "    title_div = entry.find(\"div\", class_=\"news-entries__title\")\n",
    "    \n",
    "    # 必要な要素がすべて存在するか確認します\n",
    "    if date_div and category_div and title_div:\n",
    "        date_str = date_div.text.strip()\n",
    "        category = category_div.text.strip()\n",
    "        title = title_div.text.strip()\n",
    "        relative_link = title_div.find(\"a\")[\"href\"]\n",
    "        full_link = base_url + relative_link  # フルパスに変換\n",
    "        \n",
    "        # 日付をdatetimeオブジェクトに変換します\n",
    "        entry_date = datetime.strptime(date_str, \"%Y/%m/%d\")\n",
    "        \n",
    "        # カテゴリが「製品・ソリューション」であり、かつ一ヶ月以内に更新された記事のみを抽出します\n",
    "        if category == \"製品・ソリューション\" and entry_date >= one_month_ago:\n",
    "            data.append([entry_date, category, title, full_link])\n",
    "\n",
    "# pandasのDataFrameを作成します\n",
    "df = pd.DataFrame(data, columns=[\"日付\", \"カテゴリ\", \"タイトル\", \"リンク\"])\n",
    "\n",
    "# DataFrameをcsvファイルに出力します\n",
    "df.to_csv(\"products_solutions_updates.csv\", index=False, encoding=\"utf-8\")\n",
    "\n",
    "print(\"CSVファイルに出力しました\")\n"
   ]
  },
  {
   "cell_type": "code",
   "execution_count": null,
   "metadata": {},
   "outputs": [],
   "source": []
  }
 ],
 "metadata": {
  "kernelspec": {
   "display_name": "Python 3",
   "language": "python",
   "name": "python3"
  },
  "language_info": {
   "codemirror_mode": {
    "name": "ipython",
    "version": 3
   },
   "file_extension": ".py",
   "mimetype": "text/x-python",
   "name": "python",
   "nbconvert_exporter": "python",
   "pygments_lexer": "ipython3",
   "version": "3.11.1"
  },
  "vscode": {
   "interpreter": {
    "hash": "aee8b7b246df8f9039afb4144a1f6fd8d2ca17a180786b69acc140d282b71a49"
   }
  }
 },
 "nbformat": 4,
 "nbformat_minor": 4
}
